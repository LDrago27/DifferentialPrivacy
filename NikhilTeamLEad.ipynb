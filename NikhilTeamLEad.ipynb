{
  "nbformat": 4,
  "nbformat_minor": 0,
  "metadata": {
    "colab": {
      "provenance": []
    },
    "kernelspec": {
      "name": "python3",
      "display_name": "Python 3"
    },
    "language_info": {
      "name": "python"
    }
  },
  "cells": [
    {
      "cell_type": "code",
      "execution_count": 1,
      "metadata": {
        "colab": {
          "base_uri": "https://localhost:8080/"
        },
        "id": "nvKSQZNMslUg",
        "outputId": "fe46211f-4fe3-4c2c-8d5f-e7309c4e1ef1"
      },
      "outputs": [
        {
          "output_type": "stream",
          "name": "stdout",
          "text": [
            "Looking in indexes: https://pypi.org/simple, https://us-python.pkg.dev/colab-wheels/public/simple/\n",
            "Collecting python-dp\n",
            "  Downloading python_dp-1.1.1-cp38-cp38-manylinux1_x86_64.whl (3.5 MB)\n",
            "\u001b[2K     \u001b[90m━━━━━━━━━━━━━━━━━━━━━━━━━━━━━━━━━━━━━━━━\u001b[0m \u001b[32m3.5/3.5 MB\u001b[0m \u001b[31m10.2 MB/s\u001b[0m eta \u001b[36m0:00:00\u001b[0m\n",
            "\u001b[?25hInstalling collected packages: python-dp\n",
            "Successfully installed python-dp-1.1.1\n"
          ]
        }
      ],
      "source": [
        "!pip install python-dp"
      ]
    },
    {
      "cell_type": "code",
      "source": [
        "!unzip yellow_cab_data.zip"
      ],
      "metadata": {
        "colab": {
          "base_uri": "https://localhost:8080/"
        },
        "id": "QHHyutV0swS_",
        "outputId": "f568cff0-80fa-465d-bbb7-e8724f34a6a1"
      },
      "execution_count": 2,
      "outputs": [
        {
          "output_type": "stream",
          "name": "stdout",
          "text": [
            "unzip:  cannot find or open yellow_cab_data.zip, yellow_cab_data.zip.zip or yellow_cab_data.zip.ZIP.\n"
          ]
        }
      ]
    },
    {
      "cell_type": "code",
      "source": [
        "import pydp"
      ],
      "metadata": {
        "id": "IsYs1vzitcFb"
      },
      "execution_count": 3,
      "outputs": []
    },
    {
      "cell_type": "code",
      "source": [
        "import pandas as pd\n",
        "df = pd.read_csv('yellow_cab_data.csv')"
      ],
      "metadata": {
        "id": "yGrKsZcmtJFT"
      },
      "execution_count": 68,
      "outputs": []
    },
    {
      "cell_type": "code",
      "source": [
        "df.columns"
      ],
      "metadata": {
        "colab": {
          "base_uri": "https://localhost:8080/"
        },
        "id": "tIxgF7f1t2Gk",
        "outputId": "53751518-eaad-4f2f-f669-fc59c3d7a9c2"
      },
      "execution_count": 69,
      "outputs": [
        {
          "output_type": "execute_result",
          "data": {
            "text/plain": [
              "Index(['VendorID', 'tpep_pickup_datetime', 'tpep_dropoff_datetime',\n",
              "       'passenger_count', 'trip_distance', 'RatecodeID', 'store_and_fwd_flag',\n",
              "       'PULocationID', 'DOLocationID', 'payment_type', 'fare_amount', 'extra',\n",
              "       'mta_tax', 'tip_amount', 'tolls_amount', 'improvement_surcharge',\n",
              "       'total_amount', 'congestion_surcharge', 'airport_fee'],\n",
              "      dtype='object')"
            ]
          },
          "metadata": {},
          "execution_count": 69
        }
      ]
    },
    {
      "cell_type": "code",
      "source": [
        "import numpy as np"
      ],
      "metadata": {
        "id": "FDri0e7hRaMU"
      },
      "execution_count": 12,
      "outputs": []
    },
    {
      "cell_type": "code",
      "source": [
        "import pandas as pd\n",
        "from scipy.stats import entropy\n",
        "\n",
        "def KL_Divergence(orig_df, df, column_name):\n",
        "\n",
        "  # Calculate the KL divergence between the distributions of the two dataframes\n",
        "  orig_df['frequency'] = pd.Series(pd.cut(orig_df[column_name].values, 1000))\n",
        "  orig_f = orig_df['frequency'].value_counts(normalize=True).reset_index()['frequency'].values\n",
        "  \n",
        "  df['frequency'] = pd.Series(pd.cut(df[column_name].values, 1000))\n",
        "  f = df['frequency'].value_counts(normalize=True).reset_index()['frequency'].values\n",
        "\n",
        "  kl_divergence = entropy(orig_f, f)\n",
        "\n",
        "  return kl_divergence"
      ],
      "metadata": {
        "id": "mXT39nCHWL3H"
      },
      "execution_count": 37,
      "outputs": []
    },
    {
      "cell_type": "code",
      "source": [
        "# Select the columns to be protected\n",
        "sensitive_columns = ['trip_distance', 'fare_amount','tip_amount','extra']\n",
        "updatedDf = df.copy()\n",
        "\n",
        "#updatedDf =  pd.to_datetime(updatedDf['tpep_pickup_datetime']).timetuple()-\n",
        "# Define the privacy budget (epsilon)\n",
        "# Create a privacy mechanism using Laplace mechanism\n",
        "\n",
        "curves = {}\n",
        "\n",
        "# Apply the privacy mechanism to each sensitive column in the dataset\n",
        "for col in sensitive_columns:\n",
        "  curves[col] = []\n",
        "  for epsilon in np.arange(0.1,1,0.05):\n",
        "    laplace_mech = pydp.algorithms.numerical_mechanisms.LaplaceMechanism(epsilon=epsilon)\n",
        "    updatedDf[col] = updatedDf[col].apply(lambda x: laplace_mech.add_noise(x))\n",
        "\n",
        "    # TO add the total column\n",
        "    score = KL_Divergence(df, updatedDf, col)\n",
        "    curves[col].append((epsilon,score))\n",
        "\n",
        "\n"
      ],
      "metadata": {
        "id": "Y7i_utUTtPl4"
      },
      "execution_count": 38,
      "outputs": []
    },
    {
      "cell_type": "code",
      "source": [
        "print(curves)"
      ],
      "metadata": {
        "colab": {
          "base_uri": "https://localhost:8080/"
        },
        "id": "DMZdkPUgjlJZ",
        "outputId": "52c66838-d29c-4d8a-d0a5-3f628537447a"
      },
      "execution_count": 39,
      "outputs": [
        {
          "output_type": "stream",
          "name": "stdout",
          "text": [
            "{'trip_distance': [(0.1, 0.3047917415582144), (0.15000000000000002, 0.31343501650256184), (0.20000000000000004, 0.22443490704498126), (0.25000000000000006, 0.3294766806331744), (0.30000000000000004, 0.1579872977080911), (0.3500000000000001, 0.11681300021100521), (0.40000000000000013, 0.1282223182924949), (0.45000000000000007, 0.11549401581474215), (0.5000000000000001, 0.12107688206521845), (0.5500000000000002, 0.11876888127970457), (0.6000000000000002, 0.12956314954812712), (0.6500000000000001, 0.14168875661542582), (0.7000000000000002, 0.17740356857431666), (0.7500000000000002, 0.1908447734513678), (0.8000000000000002, 0.20591028925305663), (0.8500000000000002, 0.23107776860572005), (0.9000000000000002, 0.21501096563652491), (0.9500000000000003, 0.1767348410179606)], 'fare_amount': [(0.1, 0.34156540010547204), (0.15000000000000002, 0.5068619182322092), (0.20000000000000004, 0.6061605944132529), (0.25000000000000006, 0.6601972356791856), (0.30000000000000004, 0.6972762374777582), (0.3500000000000001, 0.7203920352350357), (0.40000000000000013, 0.7302777117661653), (0.45000000000000007, 0.7398516201387474), (0.5000000000000001, 0.7522405930712751), (0.5500000000000002, 0.7567230470919055), (0.6000000000000002, 0.7584797297739847), (0.6500000000000001, 0.7613143992874073), (0.7000000000000002, 0.7636590828982297), (0.7500000000000002, 0.7674910028650798), (0.8000000000000002, 0.7746836555789428), (0.8500000000000002, 0.7770454726696057), (0.9000000000000002, 0.7814998803946482), (0.9500000000000003, 0.7849058830128866)], 'tip_amount': [(0.1, 1.131932404978347), (0.15000000000000002, 1.4608136977304162), (0.20000000000000004, 1.5318832533862565), (0.25000000000000006, 1.5972522022698525), (0.30000000000000004, 1.6044382044719767), (0.3500000000000001, 1.6491125459879705), (0.40000000000000013, 1.647313862171448), (0.45000000000000007, 1.6492784651089187), (0.5000000000000001, 1.6698383693320507), (0.5500000000000002, 1.6708876318564536), (0.6000000000000002, 1.6856065641966935), (0.6500000000000001, 1.7023094375301926), (0.7000000000000002, 1.6933864270605448), (0.7500000000000002, 1.6955760494248657), (0.8000000000000002, 1.7088068457703884), (0.8500000000000002, 1.7077252569385042), (0.9000000000000002, 1.7150793993960587), (0.9500000000000003, 1.7204330257845497)], 'extra': [(0.1, 2.9822976326305004), (0.15000000000000002, 3.3100654427714367), (0.20000000000000004, 3.449610395685709), (0.25000000000000006, 3.4301632968312226), (0.30000000000000004, 3.489397030921057), (0.3500000000000001, 3.516228761780492), (0.40000000000000013, 3.55155237492738), (0.45000000000000007, 3.570385281958711), (0.5000000000000001, 3.5799790254711286), (0.5500000000000002, 3.5730660693731977), (0.6000000000000002, 3.543894078911951), (0.6500000000000001, 3.5189520269315726), (0.7000000000000002, 3.578890613127112), (0.7500000000000002, 3.5738160605124536), (0.8000000000000002, 3.559260547382019), (0.8500000000000002, 3.5726321554555334), (0.9000000000000002, 3.54970303271104), (0.9500000000000003, 3.5555704187269597)]}\n"
          ]
        }
      ]
    },
    {
      "cell_type": "markdown",
      "source": [
        "# Curve Plotting"
      ],
      "metadata": {
        "id": "_QMMM0h3g3kr"
      }
    },
    {
      "cell_type": "code",
      "source": [
        "import matplotlib.pyplot as plt\n",
        "%matplotlib inline\n",
        "plt.xlabel(\"Epsilon\")\n",
        "plt.ylabel(\"Kl Divergence Score\")\n",
        "for col in sensitive_columns:\n",
        "  values = curves[col]\n",
        "  epsilon = [x for x,y in values]\n",
        "  scores = [y for x,y in values]\n",
        "  plt.plot(epsilon,scores)\n",
        "  \n",
        "plt.show\n",
        "plt.legend(sensitive_columns,loc =\"upper right\")"
      ],
      "metadata": {
        "colab": {
          "base_uri": "https://localhost:8080/",
          "height": 297
        },
        "id": "3DjbmS2Kg7Dc",
        "outputId": "3a03811b-4455-40de-af40-ac35dd4c7115"
      },
      "execution_count": 51,
      "outputs": [
        {
          "output_type": "execute_result",
          "data": {
            "text/plain": [
              "<matplotlib.legend.Legend at 0x7f0f118d02e0>"
            ]
          },
          "metadata": {},
          "execution_count": 51
        },
        {
          "output_type": "display_data",
          "data": {
            "text/plain": [
              "<Figure size 432x288 with 1 Axes>"
            ],
            "image/png": "[encoded data removed]"
          },
          "metadata": {
            "needs_background": "light"
          }
        }
      ]
    },
    {
      "cell_type": "code",
      "source": [
        "best_epsilon = {}\n",
        "best_epsilon[\"trip_distance\"] = 0.12\n",
        "best_epsilon[\"fare_amount\"] = 0.13\n",
        "best_epsilon[\"tip_amount\"] = 0.125\n",
        "best_epsilon[\"extra\"] = 0.225"
      ],
      "metadata": {
        "id": "V2yKILwAqC3T"
      },
      "execution_count": 63,
      "outputs": []
    },
    {
      "cell_type": "code",
      "source": [
        "finalDf = df.copy()\n",
        "for col in sensitive_columns:\n",
        "  laplace_mech = pydp.algorithms.numerical_mechanisms.LaplaceMechanism(epsilon=best_epsilon[col])\n",
        "  finalDf[col] = finalDf[col].apply(lambda x: laplace_mech.add_noise(x))\n",
        "  \n"
      ],
      "metadata": {
        "id": "KuscLdHvq1SS"
      },
      "execution_count": 64,
      "outputs": []
    },
    {
      "cell_type": "markdown",
      "source": [
        "## handling Categorical Variable"
      ],
      "metadata": {
        "id": "pLq_Q6p5sd89"
      }
    },
    {
      "cell_type": "code",
      "source": [
        "import numpy as np\n",
        "import pandas as pd\n",
        "from sklearn.linear_model import LogisticRegression\n",
        "from sklearn.model_selection import train_test_split\n",
        "from sklearn.metrics import accuracy_score\n",
        "import pickle\n",
        "\n",
        "correlated_and_categorical = ['tpep_pickup_datetime', \n",
        "               'tpep_dropoff_datetime', \n",
        "               'total_amount', \n",
        "               'store_and_fwd_flag', \n",
        "               'payment_type', \n",
        "               'RatecodeID', 'VendorID', 'frequency']\n",
        "\n",
        "def get_categorical_attribute(df, clf, categorical):\n",
        "  Xpred = df.drop(correlated_and_categorical, axis=1)\n",
        "  Ytest = df[categorical]\n",
        "  ypred = clf.predict(Xpred)\n",
        "  acc = accuracy_score(Ytest, ypred)\n",
        "  print(\"Accuracy:\", acc)\n",
        "  return ypred\n",
        "\n",
        "finalDf = finalDf.dropna()\n",
        "for colName in [\"VendorID\",\"store_and_fwd_flag\"]:\n",
        "  clf = pickle.load(open(colName + '.sav', 'rb'))\n",
        "  finalDf[colName] = get_categorical_attribute(finalDf, clf, colName)"
      ],
      "metadata": {
        "colab": {
          "base_uri": "https://localhost:8080/"
        },
        "id": "wZQ0SXxSriu9",
        "outputId": "73fe1642-5a6c-4e3a-d22f-0a9a4efc2720"
      },
      "execution_count": 65,
      "outputs": [
        {
          "output_type": "stream",
          "name": "stdout",
          "text": [
            "Accuracy: 0.6172221879096068\n",
            "Accuracy: 0.7889842779596347\n"
          ]
        }
      ]
    },
    {
      "cell_type": "code",
      "source": [
        "finalDf['RatecodeID'] = finalDf['RatecodeID'].apply(lambda x: hash(str(x)))\n",
        "finalDf['payment_type'] = finalDf['payment_type'].apply(lambda x: hash(str(x)))\n",
        "\n",
        "finalDf['PULocationID'] = finalDf['PULocationID'].apply(lambda x: hash(str(x)))\n",
        "finalDf['DOLocationID'] = finalDf['DOLocationID'].apply(lambda x: hash(str(x)))"
      ],
      "metadata": {
        "id": "cB2Ykibgu_mz"
      },
      "execution_count": 67,
      "outputs": []
    },
    {
      "cell_type": "markdown",
      "source": [
        "## Comparison"
      ],
      "metadata": {
        "id": "Ui4e6iw4x7D-"
      }
    },
    {
      "cell_type": "code",
      "source": [
        "for col in sensitive_columns:\n",
        "  print(\"Original Stats for Column:\",col)\n",
        "  print(df[col].describe())\n",
        "  print(\"Transformed Stats for Column:\",col)\n",
        "  print(finalDf[col].describe())\n",
        "  \n",
        "\n"
      ],
      "metadata": {
        "colab": {
          "base_uri": "https://localhost:8080/"
        },
        "id": "6PKBwSXuyyYv",
        "outputId": "95d79edd-6d18-4ca4-c466-0e9140e270ff"
      },
      "execution_count": 71,
      "outputs": [
        {
          "output_type": "stream",
          "name": "stdout",
          "text": [
            "Original Stats for Column: trip_distance\n",
            "count    150000.000000\n",
            "mean          6.176475\n",
            "std         545.241861\n",
            "min           0.000000\n",
            "25%           1.040000\n",
            "50%           1.740000\n",
            "75%           3.140000\n",
            "max      118618.940000\n",
            "Name: trip_distance, dtype: float64\n",
            "Transformed Stats for Column: trip_distance\n",
            "count    145719.000000\n",
            "mean          3.080450\n",
            "std          12.583179\n",
            "min         -83.844009\n",
            "25%          -3.479760\n",
            "50%           2.679008\n",
            "75%           9.523670\n",
            "max         245.925338\n",
            "Name: trip_distance, dtype: float64\n",
            "Original Stats for Column: fare_amount\n",
            "count    150000.000000\n",
            "mean         12.789388\n",
            "std          12.411326\n",
            "min        -230.000000\n",
            "25%           6.500000\n",
            "50%           9.000000\n",
            "75%          14.000000\n",
            "max         640.500000\n",
            "Name: fare_amount, dtype: float64\n",
            "Transformed Stats for Column: fare_amount\n",
            "count    145719.000000\n",
            "mean         12.607964\n",
            "std          16.530874\n",
            "min        -257.556151\n",
            "25%           3.627512\n",
            "50%          10.294933\n",
            "75%          19.060624\n",
            "max         643.397312\n",
            "Name: fare_amount, dtype: float64\n",
            "Original Stats for Column: tip_amount\n",
            "count    150000.000000\n",
            "mean          2.386165\n",
            "std           2.678924\n",
            "min          -1.070000\n",
            "25%           0.800000\n",
            "50%           2.000000\n",
            "75%           3.000000\n",
            "max          91.180000\n",
            "Name: tip_amount, dtype: float64\n",
            "Transformed Stats for Column: tip_amount\n",
            "count    145719.000000\n",
            "mean          2.368368\n",
            "std          11.650057\n",
            "min         -75.774553\n",
            "25%          -3.505325\n",
            "50%           2.185124\n",
            "75%           8.264368\n",
            "max         110.733514\n",
            "Name: tip_amount, dtype: float64\n",
            "Original Stats for Column: extra\n",
            "count    150000.000000\n",
            "mean          1.007348\n",
            "std           1.236804\n",
            "min          -4.500000\n",
            "25%           0.000000\n",
            "50%           0.500000\n",
            "75%           2.500000\n",
            "max          14.000000\n",
            "Name: extra, dtype: float64\n",
            "Transformed Stats for Column: extra\n",
            "count    145719.000000\n",
            "mean          1.030867\n",
            "std           6.434409\n",
            "min         -49.301002\n",
            "25%          -2.222670\n",
            "50%           0.968355\n",
            "75%           4.309943\n",
            "max          54.465489\n",
            "Name: extra, dtype: float64\n"
          ]
        }
      ]
    },
    {
      "cell_type": "code",
      "source": [],
      "metadata": {
        "id": "jBQyHrXa2pR3"
      },
      "execution_count": null,
      "outputs": []
    }
  ]
}